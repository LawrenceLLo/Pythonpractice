{
 "cells": [
  {
   "cell_type": "code",
   "execution_count": 1,
   "metadata": {},
   "outputs": [],
   "source": [
    "# https://www.practicepython.org/    "
   ]
  },
  {
   "cell_type": "code",
   "execution_count": 1,
   "metadata": {},
   "outputs": [
    {
     "name": "stdout",
     "output_type": "stream",
     "text": [
      "Give me your name: lar\n",
      "Enter your age: 4\n",
      "lar will be 100 years in the year 2115\n"
     ]
    }
   ],
   "source": [
    "#1\n",
    "name = input(\"Give me your name: \")\n",
    "age = int(input(\"Enter your age: \"))\n",
    "year = str(2019-age+100)\n",
    "print(name +\" will be 100 years in the year \" + year)"
   ]
  },
  {
   "cell_type": "code",
   "execution_count": 1,
   "metadata": {},
   "outputs": [
    {
     "name": "stdout",
     "output_type": "stream",
     "text": [
      "Enter any number: 5\n",
      "The number is odd\n"
     ]
    }
   ],
   "source": [
    "#2\n",
    "num = int(input(\"Enter any number: \"))\n",
    "rem = num % 2\n",
    "if rem > 0:\n",
    "    print(\"The number is odd\")\n",
    "else:\n",
    "    print(\"The number is even\")    "
   ]
  },
  {
   "cell_type": "code",
   "execution_count": 11,
   "metadata": {},
   "outputs": [
    {
     "name": "stdout",
     "output_type": "stream",
     "text": [
      "Enter any number: 37\n"
     ]
    },
    {
     "data": {
      "text/plain": [
       "[0, 1, 2, 3, 4, 5, 6, 7, 8]"
      ]
     },
     "execution_count": 11,
     "metadata": {},
     "output_type": "execute_result"
    }
   ],
   "source": [
    "#3\n",
    "a = [1, 1, 2, 3, 5, 8, 13, 21, 34, 55, 89]\n",
    "\n",
    "num = int(input(\"Enter any number: \"))\n",
    "[i for i in range(len(a)) if a[i] < num]\n"
   ]
  },
  {
   "cell_type": "code",
   "execution_count": 99,
   "metadata": {},
   "outputs": [
    {
     "name": "stdout",
     "output_type": "stream",
     "text": [
      "Enter any number: 5\n"
     ]
    },
    {
     "data": {
      "text/plain": [
       "[1, 5]"
      ]
     },
     "execution_count": 99,
     "metadata": {},
     "output_type": "execute_result"
    }
   ],
   "source": [
    "#4\n",
    "num = int(input(\"Enter any number: \"))\n",
    "[i for i in range(1, num + 1) if num % i == 0]"
   ]
  },
  {
   "cell_type": "code",
   "execution_count": 93,
   "metadata": {},
   "outputs": [
    {
     "name": "stdout",
     "output_type": "stream",
     "text": [
      "[ 1  2  3  5  8 13]\n",
      "[ 3  5  6  9 10 12 14 21 36 38 44 58 61 67 71 82 84 91]\n"
     ]
    }
   ],
   "source": [
    "#5\n",
    "import numpy\n",
    "a = [1, 1, 2, 3, 5, 8, 13, 21, 34, 55, 89]\n",
    "b = [1, 2, 3, 4, 5, 6, 7, 8, 9, 10, 11, 12, 13]\n",
    "print(numpy.unique([a[i] for i in range(1,len(a)) if a[i] in b]))\n",
    "\n",
    "import random\n",
    "c = [random.randrange(0,100) for i in range(1,random.randrange(0,100))]\n",
    "d = [random.randrange(0,100) for i in range(1,random.randrange(0,100))]\n",
    "print(numpy.unique([c[i] for i in range(1,len(c)) if c[i] in d]))"
   ]
  },
  {
   "cell_type": "code",
   "execution_count": 73,
   "metadata": {},
   "outputs": [
    {
     "name": "stdout",
     "output_type": "stream",
     "text": [
      "Enter any string: renner\n",
      "Palindrome: True\n"
     ]
    }
   ],
   "source": [
    "#6\n",
    "st = str(input(\"Enter any string: \"))\n",
    "print('Palindrome: ' + str(all([False for i in range(0,len(st)//2+1) if (st[i] != st[0-1-i])])))"
   ]
  },
  {
   "cell_type": "code",
   "execution_count": 74,
   "metadata": {},
   "outputs": [
    {
     "data": {
      "text/plain": [
       "[4, 16, 36, 64, 100]"
      ]
     },
     "execution_count": 74,
     "metadata": {},
     "output_type": "execute_result"
    }
   ],
   "source": [
    "#7\n",
    "a = [1, 4, 9, 16, 25, 36, 49, 64, 81, 100]\n",
    "[i for i in a if i % 2 == 0]"
   ]
  },
  {
   "cell_type": "code",
   "execution_count": 80,
   "metadata": {},
   "outputs": [
    {
     "name": "stdout",
     "output_type": "stream",
     "text": [
      "Player 1, enter r:rock, p:paper, or s:scissors ... r\n",
      "Player 2, enter r:rock, p:paper, or s:scissors ... p\n",
      "Player 2 wins\n",
      "Start a new game? y:yes or n:no ... y\n",
      "Player 1, enter r:rock, p:paper, or s:scissors ... r\n",
      "Player 2, enter r:rock, p:paper, or s:scissors ... s\n",
      "Player 1 wins\n",
      "Start a new game? y:yes or n:no ... n\n"
     ]
    }
   ],
   "source": [
    "#8\n",
    "while True:\n",
    "    p1 = str(input(\"Player 1, enter r:rock, p:paper, or s:scissors ... \"))\n",
    "    p2 = str(input(\"Player 2, enter r:rock, p:paper, or s:scissors ... \"))\n",
    "    if [p1,p2] in [['r','s'],['s','p'],['p','r']]: print(\"Player 1 wins\")\n",
    "    elif p1 == p2: print(\"Game is a draw\")\n",
    "    else: print(\"Player 2 wins\")\n",
    "    cont = str(input(\"Start a new game? y:yes or n:no ... \"))\n",
    "    if cont == 'n': break  "
   ]
  },
  {
   "cell_type": "code",
   "execution_count": 89,
   "metadata": {},
   "outputs": [
    {
     "name": "stdout",
     "output_type": "stream",
     "text": [
      "Guess a number between 0 and 10: 1\n",
      "Too low\n",
      "Guess a number between 0 and 10: 2\n",
      "Too low\n",
      "Guess a number between 0 and 10: 3\n",
      "Too low\n",
      "Guess a number between 0 and 10: 4\n",
      "Too low\n",
      "Guess a number between 0 and 10: 5\n",
      "Too low\n",
      "Guess a number between 0 and 10: 6\n",
      "Too low\n",
      "Guess a number between 0 and 10: 7\n",
      "Exactly right\n",
      "7 guesses\n"
     ]
    }
   ],
   "source": [
    "#9\n",
    "import random\n",
    "rnum = random.randint(1,9)\n",
    "cnt = 1\n",
    "while True:\n",
    "    num = input(\"Guess a number between 0 and 10: \")\n",
    "    if num == 'exit':\n",
    "        print(str(cnt - 1) + ' guesses')\n",
    "        break\n",
    "    else:\n",
    "        num = int(num)\n",
    "        if num == rnum: \n",
    "            print('Exactly right')\n",
    "            print(str(cnt) + ' guesses')\n",
    "            break\n",
    "        elif num < rnum: \n",
    "            print('Too low')\n",
    "            cnt = cnt +1\n",
    "        elif num > rnum: \n",
    "            print('Too high')\n",
    "            cnt = cnt +1"
   ]
  },
  {
   "cell_type": "code",
   "execution_count": null,
   "metadata": {},
   "outputs": [],
   "source": [
    "#10\n",
    "import numpy\n",
    "a = [1, 1, 2, 3, 5, 8, 13, 21, 34, 55, 89]\n",
    "b = [1, 2, 3, 4, 5, 6, 7, 8, 9, 10, 11, 12, 13]\n",
    "print(numpy.unique([i for i in a if i in b]))\n",
    "\n",
    "import random\n",
    "c = [random.randrange(0,100) for i in range(1,random.randrange(0,100))]\n",
    "d = [random.randrange(0,100) for i in range(1,random.randrange(0,100))]\n",
    "print(numpy.unique([i for i in c if i in d]))"
   ]
  },
  {
   "cell_type": "code",
   "execution_count": 106,
   "metadata": {},
   "outputs": [
    {
     "name": "stdout",
     "output_type": "stream",
     "text": [
      "Enter any number: 4\n",
      "Prime: False\n"
     ]
    }
   ],
   "source": [
    "#11\n",
    "num = int(input(\"Enter any number: \"))\n",
    "print('Prime: '+ str(len([i for i in range(1, num + 1) if num % i == 0]) < 3))"
   ]
  },
  {
   "cell_type": "code",
   "execution_count": 108,
   "metadata": {},
   "outputs": [
    {
     "data": {
      "text/plain": [
       "[5, 25]"
      ]
     },
     "execution_count": 108,
     "metadata": {},
     "output_type": "execute_result"
    }
   ],
   "source": [
    "#12\n",
    "def fandl(x): return [x[0],x[-1]]\n",
    "a = [5, 10, 15, 20, 25]\n",
    "fandl(a)"
   ]
  },
  {
   "cell_type": "code",
   "execution_count": 17,
   "metadata": {},
   "outputs": [
    {
     "name": "stdout",
     "output_type": "stream",
     "text": [
      "How many Fibonnaci numbers to generate: 10\n"
     ]
    },
    {
     "data": {
      "text/plain": [
       "[1, 1, 2, 3, 5, 8, 13, 21, 34, 55]"
      ]
     },
     "execution_count": 17,
     "metadata": {},
     "output_type": "execute_result"
    }
   ],
   "source": [
    "#13\n",
    "def fib():\n",
    "    x = int(input(\"How many Fibonnaci numbers to generate: \"))\n",
    "    y = [0,1]\n",
    "    for i in range(1, x + 1):\n",
    "        y.append(y[-1] + y[-2])\n",
    "    return y[1:-1]\n",
    "fib()"
   ]
  },
  {
   "cell_type": "code",
   "execution_count": 28,
   "metadata": {},
   "outputs": [
    {
     "name": "stdout",
     "output_type": "stream",
     "text": [
      "[1, 2, 3, 4, 5]\n",
      "[1, 2, 3, 4, 5]\n"
     ]
    }
   ],
   "source": [
    "#14\n",
    "a = [1,1,2,3,4,4,5]\n",
    "\n",
    "def deldup1(x):\n",
    "    y = []\n",
    "    for i in x:\n",
    "        if i not in y:\n",
    "            y.append(i)\n",
    "    return y\n",
    "\n",
    "print(deldup1(a))\n",
    "\n",
    "def deldup2(x):\n",
    "    return list(set(x))\n",
    "    \n",
    "print(deldup2(a))    "
   ]
  },
  {
   "cell_type": "code",
   "execution_count": 24,
   "metadata": {},
   "outputs": [
    {
     "data": {
      "text/plain": [
       "[1, 2, 3]"
      ]
     },
     "execution_count": 24,
     "metadata": {},
     "output_type": "execute_result"
    }
   ],
   "source": [
    "#15"
   ]
  },
  {
   "cell_type": "code",
   "execution_count": null,
   "metadata": {},
   "outputs": [],
   "source": []
  }
 ],
 "metadata": {
  "kernelspec": {
   "display_name": "Python 3",
   "language": "python",
   "name": "python3"
  },
  "language_info": {
   "codemirror_mode": {
    "name": "ipython",
    "version": 3
   },
   "file_extension": ".py",
   "mimetype": "text/x-python",
   "name": "python",
   "nbconvert_exporter": "python",
   "pygments_lexer": "ipython3",
   "version": "3.7.0"
  }
 },
 "nbformat": 4,
 "nbformat_minor": 2
}
